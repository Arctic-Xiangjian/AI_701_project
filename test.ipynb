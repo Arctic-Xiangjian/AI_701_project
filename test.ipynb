{
 "cells": [
  {
   "cell_type": "code",
   "execution_count": 1,
   "metadata": {},
   "outputs": [],
   "source": [
    "import os\n",
    "main_dir = os.path.join(\"./\",'nnUNet/nnunet')\n",
    "os.environ['nnUNet_raw_data_base'] = os.path.join(main_dir,'nnUNet_raw_data_base')\n",
    "os.environ['nnUNet_preprocessed'] = os.path.join(main_dir,'preprocessed')\n",
    "os.environ['RESULTS_FOLDER'] = os.path.join(main_dir,'nnUNet_trained_models')"
   ]
  },
  {
   "cell_type": "code",
   "execution_count": 4,
   "metadata": {},
   "outputs": [
    {
     "data": {
      "text/plain": [
       "'./nnUNet/nnunet/nnUNet_raw_data_base'"
      ]
     },
     "execution_count": 4,
     "metadata": {},
     "output_type": "execute_result"
    }
   ],
   "source": [
    "os.path.join(main_dir,'nnUNet_raw_data_base')"
   ]
  }
 ],
 "metadata": {
  "kernelspec": {
   "display_name": "Python 3.9.13 ('nnunet')",
   "language": "python",
   "name": "python3"
  },
  "language_info": {
   "codemirror_mode": {
    "name": "ipython",
    "version": 3
   },
   "file_extension": ".py",
   "mimetype": "text/x-python",
   "name": "python",
   "nbconvert_exporter": "python",
   "pygments_lexer": "ipython3",
   "version": "3.9.13"
  },
  "orig_nbformat": 4,
  "vscode": {
   "interpreter": {
    "hash": "f10f51cc13448e6da6a14a6f6bb2e946cb0231e3c9cd25093e78ad0297ce6b98"
   }
  }
 },
 "nbformat": 4,
 "nbformat_minor": 2
}
